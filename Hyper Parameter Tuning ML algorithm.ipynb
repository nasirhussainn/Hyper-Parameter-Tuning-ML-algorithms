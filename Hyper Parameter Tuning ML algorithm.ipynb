{
 "cells": [
  {
   "cell_type": "markdown",
   "id": "e7e6a8bf",
   "metadata": {},
   "source": [
    "<h3 style=\"color:purple\">Hyper Parameter Tuning</h3>"
   ]
  },
  {
   "cell_type": "markdown",
   "id": "ac9bfdb9",
   "metadata": {},
   "source": [
    "Hyperparameter tuning is the process of finding the best set of hyperparameters for a machine learning model that maximizes its performance on a specific task. Hyperparameters are settings for a model that are chosen before training and are not learned from the data, such as learning rate, regularization strength, number of hidden layers, etc. The choice of hyperparameters can have a significant impact on the performance of the model, and finding the optimal combination of hyperparameters can be a challenging task."
   ]
  },
  {
   "cell_type": "code",
   "execution_count": 1,
   "id": "6e809431",
   "metadata": {},
   "outputs": [],
   "source": [
    "import pandas as pd\n",
    "import numpy as np\n",
    "import sklearn"
   ]
  },
  {
   "cell_type": "markdown",
   "id": "f6ffc018",
   "metadata": {},
   "source": [
    "<h5 style=\"color:purple\">Digits Dataset sklearn</h5>"
   ]
  },
  {
   "cell_type": "code",
   "execution_count": 2,
   "id": "ed49ad82",
   "metadata": {},
   "outputs": [],
   "source": [
    "from sklearn.datasets import load_digits\n",
    "digits=load_digits()"
   ]
  },
  {
   "cell_type": "markdown",
   "id": "d45f9a3a",
   "metadata": {},
   "source": [
    "<h3 style=\"color:purple\">Finding Best Model for Handwritten Digit Classification</h3>"
   ]
  },
  {
   "cell_type": "code",
   "execution_count": 3,
   "id": "4c7c409a",
   "metadata": {},
   "outputs": [],
   "source": [
    "from sklearn import svm\n",
    "from sklearn.ensemble import RandomForestClassifier\n",
    "from sklearn.linear_model import LogisticRegression\n",
    "from sklearn.naive_bayes import GaussianNB\n",
    "from sklearn.naive_bayes import MultinomialNB\n",
    "from sklearn.tree import DecisionTreeClassifier"
   ]
  },
  {
   "cell_type": "code",
   "execution_count": 5,
   "id": "d9140a68",
   "metadata": {},
   "outputs": [],
   "source": [
    "from sklearn.model_selection import KFold\n",
    "km=KFold(n_splits=10)"
   ]
  },
  {
   "cell_type": "markdown",
   "id": "60dabb75",
   "metadata": {},
   "source": [
    "**making a dictionary of model**"
   ]
  },
  {
   "cell_type": "code",
   "execution_count": 6,
   "id": "3506bbe5",
   "metadata": {},
   "outputs": [],
   "source": [
    "model_params = {\n",
    "    'svm': {\n",
    "        'model': svm.SVC(),\n",
    "        'params' : {\n",
    "              'kernel': ['linear', 'poly', 'rbf'],\n",
    "              'C': [1, 10,20],\n",
    "              'gamma': [0.1, 1, 10],\n",
    "              'degree': [2, 3, 4]\n",
    "        }  \n",
    "    },\n",
    "    'random_forest': {\n",
    "        'model': RandomForestClassifier(),\n",
    "        'params' : {\n",
    "              'n_estimators': [10, 50, 100],\n",
    "              'max_depth': [None, 5, 10],\n",
    "              'max_features': ['sqrt', 'log2'],\n",
    "              'min_samples_split': [2, 5, 10],\n",
    "              'min_samples_leaf': [1, 2, 4]}\n",
    "    },\n",
    "    'logistic_regression' : {\n",
    "        'model': LogisticRegression(multi_class='auto'),\n",
    "        'params': {\n",
    "              'penalty': ['l1', 'l2'],\n",
    "              'C': [0.001, 0.01, 0.1, 1, 10],\n",
    "              'solver': ['liblinear', 'saga'],\n",
    "              'max_iter': [100, 500, 1000]}\n",
    "    },\n",
    "    'GaussianNB':{\n",
    "        'model': GaussianNB(),\n",
    "        'params':{\n",
    "        }\n",
    "    },\n",
    "    'MultinomialNB':{\n",
    "        'model': MultinomialNB(),\n",
    "        'params':{\n",
    "            'alpha': [0.5, 1, 2]\n",
    "            \n",
    "        }\n",
    "    },\n",
    "    'DecisionTree':{\n",
    "        'model': DecisionTreeClassifier(),\n",
    "        'params':{\n",
    "            'criterion': ['gini', 'entropy'],\n",
    "            'max_depth': [2, 4, 6],\n",
    "            'min_samples_split': [2, 5, 10],\n",
    "            'min_samples_leaf': [1, 2, 4]\n",
    "        }\n",
    "    }\n",
    "}"
   ]
  },
  {
   "cell_type": "markdown",
   "id": "1e9923d8",
   "metadata": {},
   "source": [
    "<h3 style=\"color:purple\">GridSearchCV</h3>"
   ]
  },
  {
   "cell_type": "markdown",
   "id": "39a14c2a",
   "metadata": {},
   "source": [
    "Grid search involves defining a set of hyperparameter values and evaluating the model's performance for each possible combination of these values. It creates a grid of all possible hyperparameter combinations and trains and evaluates a model for each combination. Grid search can be computationally expensive, especially when the number of hyperparameters and their possible values are large."
   ]
  },
  {
   "cell_type": "markdown",
   "id": "c27ccac1",
   "metadata": {},
   "source": [
    "<h3 style=\"color:purple\">RandomizedSearchCV</h3>"
   ]
  },
  {
   "cell_type": "markdown",
   "id": "8c1b0881",
   "metadata": {},
   "source": [
    "Randomized search, on the other hand, involves randomly sampling hyperparameters from a defined search space and training and evaluating a model for each sampled combination. This approach is less computationally expensive compared to grid search since it does not evaluate all possible hyperparameter combinations. Instead, it randomly selects a defined number of combinations and evaluates them."
   ]
  },
  {
   "cell_type": "code",
   "execution_count": 7,
   "id": "1d441699",
   "metadata": {},
   "outputs": [],
   "source": [
    "from sklearn.model_selection import GridSearchCV\n",
    "from sklearn.model_selection import RandomizedSearchCV"
   ]
  },
  {
   "cell_type": "markdown",
   "id": "f67ef4b2",
   "metadata": {},
   "source": [
    "*here we used randomized because we use almost all parameter of all model so there will be lot of combination*"
   ]
  },
  {
   "cell_type": "code",
   "execution_count": 9,
   "id": "b37bc3c5",
   "metadata": {},
   "outputs": [
    {
     "name": "stderr",
     "output_type": "stream",
     "text": [
      "C:\\Python310\\lib\\site-packages\\sklearn\\linear_model\\_sag.py:350: ConvergenceWarning: The max_iter was reached which means the coef_ did not converge\n",
      "  warnings.warn(\n",
      "C:\\Python310\\lib\\site-packages\\sklearn\\linear_model\\_sag.py:350: ConvergenceWarning: The max_iter was reached which means the coef_ did not converge\n",
      "  warnings.warn(\n",
      "C:\\Python310\\lib\\site-packages\\sklearn\\linear_model\\_sag.py:350: ConvergenceWarning: The max_iter was reached which means the coef_ did not converge\n",
      "  warnings.warn(\n",
      "C:\\Python310\\lib\\site-packages\\sklearn\\linear_model\\_sag.py:350: ConvergenceWarning: The max_iter was reached which means the coef_ did not converge\n",
      "  warnings.warn(\n",
      "C:\\Python310\\lib\\site-packages\\sklearn\\linear_model\\_sag.py:350: ConvergenceWarning: The max_iter was reached which means the coef_ did not converge\n",
      "  warnings.warn(\n",
      "C:\\Python310\\lib\\site-packages\\sklearn\\model_selection\\_search.py:305: UserWarning: The total space of parameters 1 is smaller than n_iter=5. Running 1 iterations. For exhaustive searches, use GridSearchCV.\n",
      "  warnings.warn(\n",
      "C:\\Python310\\lib\\site-packages\\sklearn\\model_selection\\_search.py:305: UserWarning: The total space of parameters 3 is smaller than n_iter=5. Running 3 iterations. For exhaustive searches, use GridSearchCV.\n",
      "  warnings.warn(\n"
     ]
    },
    {
     "data": {
      "text/html": [
       "<div>\n",
       "<style scoped>\n",
       "    .dataframe tbody tr th:only-of-type {\n",
       "        vertical-align: middle;\n",
       "    }\n",
       "\n",
       "    .dataframe tbody tr th {\n",
       "        vertical-align: top;\n",
       "    }\n",
       "\n",
       "    .dataframe thead th {\n",
       "        text-align: right;\n",
       "    }\n",
       "</style>\n",
       "<table border=\"1\" class=\"dataframe\">\n",
       "  <thead>\n",
       "    <tr style=\"text-align: right;\">\n",
       "      <th></th>\n",
       "      <th>model</th>\n",
       "      <th>best_score</th>\n",
       "      <th>best_params</th>\n",
       "    </tr>\n",
       "  </thead>\n",
       "  <tbody>\n",
       "    <tr>\n",
       "      <th>0</th>\n",
       "      <td>svm</td>\n",
       "      <td>0.947697</td>\n",
       "      <td>{'kernel': 'linear', 'gamma': 1, 'degree': 2, ...</td>\n",
       "    </tr>\n",
       "    <tr>\n",
       "      <th>1</th>\n",
       "      <td>random_forest</td>\n",
       "      <td>0.923784</td>\n",
       "      <td>{'n_estimators': 100, 'min_samples_split': 5, ...</td>\n",
       "    </tr>\n",
       "    <tr>\n",
       "      <th>2</th>\n",
       "      <td>logistic_regression</td>\n",
       "      <td>0.928230</td>\n",
       "      <td>{'solver': 'liblinear', 'penalty': 'l2', 'max_...</td>\n",
       "    </tr>\n",
       "    <tr>\n",
       "      <th>3</th>\n",
       "      <td>GaussianNB</td>\n",
       "      <td>0.806928</td>\n",
       "      <td>{}</td>\n",
       "    </tr>\n",
       "    <tr>\n",
       "      <th>4</th>\n",
       "      <td>MultinomialNB</td>\n",
       "      <td>0.871464</td>\n",
       "      <td>{'alpha': 2}</td>\n",
       "    </tr>\n",
       "    <tr>\n",
       "      <th>5</th>\n",
       "      <td>DecisionTree</td>\n",
       "      <td>0.719591</td>\n",
       "      <td>{'min_samples_split': 2, 'min_samples_leaf': 1...</td>\n",
       "    </tr>\n",
       "  </tbody>\n",
       "</table>\n",
       "</div>"
      ],
      "text/plain": [
       "                 model  best_score  \\\n",
       "0                  svm    0.947697   \n",
       "1        random_forest    0.923784   \n",
       "2  logistic_regression    0.928230   \n",
       "3           GaussianNB    0.806928   \n",
       "4        MultinomialNB    0.871464   \n",
       "5         DecisionTree    0.719591   \n",
       "\n",
       "                                         best_params  \n",
       "0  {'kernel': 'linear', 'gamma': 1, 'degree': 2, ...  \n",
       "1  {'n_estimators': 100, 'min_samples_split': 5, ...  \n",
       "2  {'solver': 'liblinear', 'penalty': 'l2', 'max_...  \n",
       "3                                                 {}  \n",
       "4                                       {'alpha': 2}  \n",
       "5  {'min_samples_split': 2, 'min_samples_leaf': 1...  "
      ]
     },
     "execution_count": 9,
     "metadata": {},
     "output_type": "execute_result"
    }
   ],
   "source": [
    "scores = []\n",
    "\n",
    "for model_name, mp in model_params.items():\n",
    "    clf =  RandomizedSearchCV(mp['model'], mp['params'], cv=5, return_train_score=False,n_iter=5)\n",
    "    clf.fit(digits.data, digits.target)\n",
    "    scores.append({\n",
    "        'model': model_name,\n",
    "        'best_score': clf.best_score_,\n",
    "        'best_params': clf.best_params_\n",
    "    })\n",
    "    \n",
    "df = pd.DataFrame(scores,columns=['model','best_score','best_params'])\n",
    "df"
   ]
  },
  {
   "cell_type": "code",
   "execution_count": null,
   "id": "54582d0b",
   "metadata": {},
   "outputs": [],
   "source": []
  }
 ],
 "metadata": {
  "kernelspec": {
   "display_name": "Python 3 (ipykernel)",
   "language": "python",
   "name": "python3"
  },
  "language_info": {
   "codemirror_mode": {
    "name": "ipython",
    "version": 3
   },
   "file_extension": ".py",
   "mimetype": "text/x-python",
   "name": "python",
   "nbconvert_exporter": "python",
   "pygments_lexer": "ipython3",
   "version": "3.10.8"
  }
 },
 "nbformat": 4,
 "nbformat_minor": 5
}
